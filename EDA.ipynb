{
 "cells": [
  {
   "cell_type": "code",
   "execution_count": null,
   "metadata": {},
   "outputs": [],
   "source": [
    "import numpy as np\n",
    "import pandas as pd\n",
    "import docplex"
   ]
  },
  {
   "cell_type": "code",
   "execution_count": null,
   "metadata": {},
   "outputs": [],
   "source": [
    "data = pd.read_csv('dataset/family_data.csv', index_col='family_id')\n",
    "submission = pd.read_csv('dataset/sample_submission.csv', index_col='family_id')"
   ]
  },
  {
   "cell_type": "code",
   "execution_count": null,
   "metadata": {},
   "outputs": [],
   "source": [
    "from docplex.mp.model import Model\n",
    "mdl = Model(name='santa')\n",
    "mdl.parameters.threads = 2\n",
    "mdl.parameters.mip.tolerances.mipgap = 0.0"
   ]
  },
  {
   "cell_type": "code",
   "execution_count": null,
   "metadata": {},
   "outputs": [],
   "source": [
    "MAX_OCCUPANCY = 300\n",
    "MIN_OCCUPANCY = 125"
   ]
  },
  {
   "cell_type": "code",
   "execution_count": null,
   "metadata": {},
   "outputs": [],
   "source": [
    "days = range(1,101)\n",
    "count = range(5000)"
   ]
  },
  {
   "cell_type": "code",
   "execution_count": null,
   "metadata": {},
   "outputs": [],
   "source": [
    "# Decision Variables\n",
    "F = mdl.binary_var_matrix(count,days)"
   ]
  },
  {
   "cell_type": "code",
   "execution_count": null,
   "metadata": {},
   "outputs": [],
   "source": [
    "# Constraints\n",
    "mdl.add_constraints(mdl.sum(F[f,d]*data.n_people[f] for f in count) <= MAX_OCCUPANCY for d in days)\n",
    "mdl.add_constraints(mdl.sum(F[f,d]*data.n_people[f] for f in count) >= MIN_OCCUPANCY for d in days)\n",
    "mdl.add_constraints(mdl.sum(F[f,d] for d in days) == 1 for f in count)"
   ]
  },
  {
   "cell_type": "code",
   "execution_count": null,
   "metadata": {},
   "outputs": [],
   "source": [
    "fam_costs = np.zeros((5000,101))\n",
    "choices = data[['choice_'+str(i) for i in range(10)]].values\n",
    "for f in range(5000):\n",
    "    for d in range(1,101):\n",
    "        l = list(choices[f])\n",
    "        if d in l:\n",
    "            if l.index(d) == 0:\n",
    "                fam_costs[f,d] = 0\n",
    "            elif l.index(d) == 1:\n",
    "                fam_costs[f,d] = 50\n",
    "            elif l.index(d) == 2:\n",
    "                fam_costs[f,d] = 50 + 9 * data.n_people[f]\n",
    "            elif l.index(d) == 3:\n",
    "                fam_costs[f,d] = 100 + 9 * data.n_people[f]\n",
    "            elif l.index(d) == 4:\n",
    "                fam_costs[f,d] = 200 + 9 * data.n_people[f]\n",
    "            elif l.index(d) == 5:\n",
    "                fam_costs[f,d] = 200 + 18 * data.n_people[f]\n",
    "            elif l.index(d) == 6:\n",
    "                fam_costs[f,d] = 300 + 18 * data.n_people[f]\n",
    "            elif l.index(d) == 7:\n",
    "                fam_costs[f,d] = 300 + 36 * data.n_people[f]\n",
    "            elif l.index(d) == 8:\n",
    "                fam_costs[f,d] = 400 + 36 * data.n_people[f]\n",
    "            elif l.index(d) == 9:\n",
    "                fam_costs[f,d] = 500 + 235 * data.n_people[f]\n",
    "        else:\n",
    "            fam_costs[f,d] = 500 + 434 * data.n_people[f]"
   ]
  },
  {
   "cell_type": "code",
   "execution_count": null,
   "metadata": {},
   "outputs": [],
   "source": [
    "cost = mdl.sum(F[f,d]*fam_costs[f,d] for f in count for d in days)\n",
    "mdl.minimize(cost)"
   ]
  },
  {
   "cell_type": "code",
   "execution_count": null,
   "metadata": {},
   "outputs": [],
   "source": [
    "mdl.solve()"
   ]
  },
  {
   "cell_type": "code",
   "execution_count": null,
   "metadata": {},
   "outputs": [],
   "source": [
    "# prediction = submission['assigned_day'].values\n",
    "# desired = data.values[:, :-1]\n",
    "# family_size = data.n_people.values\n",
    "# penalties = np.asarray([\n",
    "#     [\n",
    "#         0,\n",
    "#         50,\n",
    "#         50 + 9 * n,\n",
    "#         100 + 9 * n,\n",
    "#         200 + 9 * n,\n",
    "#         200 + 18 * n,\n",
    "#         300 + 18 * n,\n",
    "#         300 + 36 * n,\n",
    "#         400 + 36 * n,\n",
    "#         500 + 36 * n + 199 * n,\n",
    "#         500 + 36 * n + 398 * n\n",
    "#     ] for n in range(family_size.max() + 1)\n",
    "# ])"
   ]
  },
  {
   "cell_type": "code",
   "execution_count": null,
   "metadata": {},
   "outputs": [],
   "source": [
    "# prediction = submission['assigned_day'].values\n",
    "# desired = data.values[:, :-1]\n",
    "# family_size = data.n_people.values\n",
    "# penalties = np.asarray([\n",
    "#     [\n",
    "#         0,\n",
    "#         50,\n",
    "#         50 + 9 * n,\n",
    "#         100 + 9 * n,\n",
    "#         200 + 9 * n,\n",
    "#         200 + 18 * n,\n",
    "#         300 + 18 * n,\n",
    "#         300 + 36 * n,\n",
    "#         400 + 36 * n,\n",
    "#         500 + 36 * n + 199 * n,\n",
    "#         500 + 36 * n + 398 * n\n",
    "#     ] for n in range(family_size.max() + 1)\n",
    "# ])\n",
    "# @njit(nopython=True)\n",
    "# def jited_cost(prediction, desired, family_size, penalties):\n",
    "#     N_DAYS = 100\n",
    "#     MAX_OCCUPANCY = 300\n",
    "#     MIN_OCCUPANCY = 125\n",
    "#     penalty = 0\n",
    "#     daily_occupancy = np.zeros(N_DAYS + 1, dtype=np.int64)\n",
    "#     for i in range(len(prediction)):\n",
    "#         n = family_size[i]\n",
    "#         pred = prediction[i]\n",
    "#         n_choice = 0\n",
    "#         for j in range(len(desired[i])):\n",
    "#             if desired[i, j] == pred:\n",
    "#                 break\n",
    "#             else:\n",
    "#                 n_choice += 1\n",
    "        \n",
    "#         daily_occupancy[pred - 1] += n\n",
    "#         penalty += penalties[n, n_choice]\n",
    "\n",
    "#     accounting_cost = 0\n",
    "#     n_out_of_range = 0\n",
    "#     daily_occupancy[-1] = daily_occupancy[-2]\n",
    "#     for day in range(N_DAYS):\n",
    "#         n_next = daily_occupancy[day + 1]\n",
    "#         n = daily_occupancy[day]\n",
    "#         n_out_of_range += (n > MAX_OCCUPANCY) or (n < MIN_OCCUPANCY)\n",
    "#         diff = abs(n - n_next)\n",
    "#         accounting_cost += max(0, (n-125.0) / 400.0 * n**(0.5 + diff / 50.0))\n",
    "\n",
    "#     penalty += accounting_cost\n",
    "#     return np.asarray([penalty, n_out_of_range])"
   ]
  },
  {
   "cell_type": "code",
   "execution_count": null,
   "metadata": {},
   "outputs": [],
   "source": [
    "# %timeit jited_cost(prediction, desired, family_size, penalties)"
   ]
  },
  {
   "cell_type": "code",
   "execution_count": null,
   "metadata": {},
   "outputs": [],
   "source": []
  }
 ],
 "metadata": {
  "kernelspec": {
   "display_name": "Python 3",
   "language": "python",
   "name": "python3"
  },
  "language_info": {
   "codemirror_mode": {
    "name": "ipython",
    "version": 3
   },
   "file_extension": ".py",
   "mimetype": "text/x-python",
   "name": "python",
   "nbconvert_exporter": "python",
   "pygments_lexer": "ipython3",
   "version": "3.7.4"
  }
 },
 "nbformat": 4,
 "nbformat_minor": 2
}

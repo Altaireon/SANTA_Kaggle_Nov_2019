{
 "cells": [
  {
   "cell_type": "code",
   "execution_count": 1,
   "metadata": {},
   "outputs": [],
   "source": [
    "import gurobipy as gp\n",
    "from gurobipy import GRB\n",
    "import pandas as pd\n",
    "import numpy as np"
   ]
  },
  {
   "cell_type": "code",
   "execution_count": 2,
   "metadata": {},
   "outputs": [],
   "source": [
    "data = pd.read_csv('dataset/family_data.csv')"
   ]
  },
  {
   "cell_type": "code",
   "execution_count": 3,
   "metadata": {},
   "outputs": [],
   "source": [
    "sub = pd.read_csv('dataset/submission.csv')"
   ]
  },
  {
   "cell_type": "code",
   "execution_count": 4,
   "metadata": {},
   "outputs": [
    {
     "name": "stdout",
     "output_type": "stream",
     "text": [
      "Using license file /home/avinash/gurobi.lic\n",
      "Academic license - for non-commercial use only\n"
     ]
    }
   ],
   "source": [
    "# Create a new model\n",
    "m = gp.Model(\"santa\")"
   ]
  },
  {
   "cell_type": "code",
   "execution_count": 5,
   "metadata": {},
   "outputs": [
    {
     "name": "stdout",
     "output_type": "stream",
     "text": [
      "Changed value of parameter MIPFocus to 2\n",
      "   Prev: 0  Min: 0  Max: 3  Default: 0\n",
      "Changed value of parameter MIPGap to 0.0\n",
      "   Prev: 0.0001  Min: 0.0  Max: inf  Default: 0.0001\n",
      "Changed value of parameter MIPGapAbs to 0.0\n",
      "   Prev: 1e-10  Min: 0.0  Max: inf  Default: 1e-10\n"
     ]
    }
   ],
   "source": [
    "m.setParam('MIPFocus',2)\n",
    "m.setParam('MIPGap',0)\n",
    "m.setParam('MIPGapAbs',0)"
   ]
  },
  {
   "cell_type": "code",
   "execution_count": 6,
   "metadata": {},
   "outputs": [],
   "source": [
    "MAX_OCCUPANCY = 300\n",
    "MIN_OCCUPANCY = 125\n",
    "days = range(1,101)\n",
    "count = range(5000)"
   ]
  },
  {
   "cell_type": "code",
   "execution_count": 7,
   "metadata": {},
   "outputs": [],
   "source": [
    "# Create variables\n",
    "F = [[m.addVar(vtype=GRB.BINARY,name=f'x_{j}_{i}') for i in range(101)] for j in range(5000)]\n",
    "Y = [[m.addVar(vtype=GRB.BINARY,name=f'y_{j}_{i}') for i in range(101)] for j in range(176)]"
   ]
  },
  {
   "cell_type": "code",
   "execution_count": 8,
   "metadata": {},
   "outputs": [],
   "source": [
    "for i in range(5000):\n",
    "    for j in range(1,101):\n",
    "        if j == sub.at[i,'assigned_day']:\n",
    "            F[i][j].start=1\n",
    "        else:\n",
    "            F[i][j].start=0"
   ]
  },
  {
   "cell_type": "code",
   "execution_count": 9,
   "metadata": {},
   "outputs": [],
   "source": [
    "for i in range(101):\n",
    "    for j in range(176):\n",
    "        Y[j][i].start=0\n",
    "for i,j in zip(sub.assigned_day.value_counts().index,sub.assigned_day.value_counts().values):\n",
    "    Y[j][i].start=1"
   ]
  },
  {
   "cell_type": "code",
   "execution_count": 10,
   "metadata": {},
   "outputs": [],
   "source": [
    "N = []\n",
    "P = []\n",
    "for d in days:\n",
    "    N.append(sum(F[f][d]*data.n_people[f] for f in count))\n",
    "    P.append(sum(Y[p][d]*(p+125) for p in range(176)))"
   ]
  },
  {
   "cell_type": "code",
   "execution_count": 11,
   "metadata": {},
   "outputs": [
    {
     "data": {
      "text/plain": [
       "{1: <gurobi.Constr *Awaiting Model Update*>,\n",
       " 2: <gurobi.Constr *Awaiting Model Update*>,\n",
       " 3: <gurobi.Constr *Awaiting Model Update*>,\n",
       " 4: <gurobi.Constr *Awaiting Model Update*>,\n",
       " 5: <gurobi.Constr *Awaiting Model Update*>,\n",
       " 6: <gurobi.Constr *Awaiting Model Update*>,\n",
       " 7: <gurobi.Constr *Awaiting Model Update*>,\n",
       " 8: <gurobi.Constr *Awaiting Model Update*>,\n",
       " 9: <gurobi.Constr *Awaiting Model Update*>,\n",
       " 10: <gurobi.Constr *Awaiting Model Update*>,\n",
       " 11: <gurobi.Constr *Awaiting Model Update*>,\n",
       " 12: <gurobi.Constr *Awaiting Model Update*>,\n",
       " 13: <gurobi.Constr *Awaiting Model Update*>,\n",
       " 14: <gurobi.Constr *Awaiting Model Update*>,\n",
       " 15: <gurobi.Constr *Awaiting Model Update*>,\n",
       " 16: <gurobi.Constr *Awaiting Model Update*>,\n",
       " 17: <gurobi.Constr *Awaiting Model Update*>,\n",
       " 18: <gurobi.Constr *Awaiting Model Update*>,\n",
       " 19: <gurobi.Constr *Awaiting Model Update*>,\n",
       " 20: <gurobi.Constr *Awaiting Model Update*>,\n",
       " 21: <gurobi.Constr *Awaiting Model Update*>,\n",
       " 22: <gurobi.Constr *Awaiting Model Update*>,\n",
       " 23: <gurobi.Constr *Awaiting Model Update*>,\n",
       " 24: <gurobi.Constr *Awaiting Model Update*>,\n",
       " 25: <gurobi.Constr *Awaiting Model Update*>,\n",
       " 26: <gurobi.Constr *Awaiting Model Update*>,\n",
       " 27: <gurobi.Constr *Awaiting Model Update*>,\n",
       " 28: <gurobi.Constr *Awaiting Model Update*>,\n",
       " 29: <gurobi.Constr *Awaiting Model Update*>,\n",
       " 30: <gurobi.Constr *Awaiting Model Update*>,\n",
       " 31: <gurobi.Constr *Awaiting Model Update*>,\n",
       " 32: <gurobi.Constr *Awaiting Model Update*>,\n",
       " 33: <gurobi.Constr *Awaiting Model Update*>,\n",
       " 34: <gurobi.Constr *Awaiting Model Update*>,\n",
       " 35: <gurobi.Constr *Awaiting Model Update*>,\n",
       " 36: <gurobi.Constr *Awaiting Model Update*>,\n",
       " 37: <gurobi.Constr *Awaiting Model Update*>,\n",
       " 38: <gurobi.Constr *Awaiting Model Update*>,\n",
       " 39: <gurobi.Constr *Awaiting Model Update*>,\n",
       " 40: <gurobi.Constr *Awaiting Model Update*>,\n",
       " 41: <gurobi.Constr *Awaiting Model Update*>,\n",
       " 42: <gurobi.Constr *Awaiting Model Update*>,\n",
       " 43: <gurobi.Constr *Awaiting Model Update*>,\n",
       " 44: <gurobi.Constr *Awaiting Model Update*>,\n",
       " 45: <gurobi.Constr *Awaiting Model Update*>,\n",
       " 46: <gurobi.Constr *Awaiting Model Update*>,\n",
       " 47: <gurobi.Constr *Awaiting Model Update*>,\n",
       " 48: <gurobi.Constr *Awaiting Model Update*>,\n",
       " 49: <gurobi.Constr *Awaiting Model Update*>,\n",
       " 50: <gurobi.Constr *Awaiting Model Update*>,\n",
       " 51: <gurobi.Constr *Awaiting Model Update*>,\n",
       " 52: <gurobi.Constr *Awaiting Model Update*>,\n",
       " 53: <gurobi.Constr *Awaiting Model Update*>,\n",
       " 54: <gurobi.Constr *Awaiting Model Update*>,\n",
       " 55: <gurobi.Constr *Awaiting Model Update*>,\n",
       " 56: <gurobi.Constr *Awaiting Model Update*>,\n",
       " 57: <gurobi.Constr *Awaiting Model Update*>,\n",
       " 58: <gurobi.Constr *Awaiting Model Update*>,\n",
       " 59: <gurobi.Constr *Awaiting Model Update*>,\n",
       " 60: <gurobi.Constr *Awaiting Model Update*>,\n",
       " 61: <gurobi.Constr *Awaiting Model Update*>,\n",
       " 62: <gurobi.Constr *Awaiting Model Update*>,\n",
       " 63: <gurobi.Constr *Awaiting Model Update*>,\n",
       " 64: <gurobi.Constr *Awaiting Model Update*>,\n",
       " 65: <gurobi.Constr *Awaiting Model Update*>,\n",
       " 66: <gurobi.Constr *Awaiting Model Update*>,\n",
       " 67: <gurobi.Constr *Awaiting Model Update*>,\n",
       " 68: <gurobi.Constr *Awaiting Model Update*>,\n",
       " 69: <gurobi.Constr *Awaiting Model Update*>,\n",
       " 70: <gurobi.Constr *Awaiting Model Update*>,\n",
       " 71: <gurobi.Constr *Awaiting Model Update*>,\n",
       " 72: <gurobi.Constr *Awaiting Model Update*>,\n",
       " 73: <gurobi.Constr *Awaiting Model Update*>,\n",
       " 74: <gurobi.Constr *Awaiting Model Update*>,\n",
       " 75: <gurobi.Constr *Awaiting Model Update*>,\n",
       " 76: <gurobi.Constr *Awaiting Model Update*>,\n",
       " 77: <gurobi.Constr *Awaiting Model Update*>,\n",
       " 78: <gurobi.Constr *Awaiting Model Update*>,\n",
       " 79: <gurobi.Constr *Awaiting Model Update*>,\n",
       " 80: <gurobi.Constr *Awaiting Model Update*>,\n",
       " 81: <gurobi.Constr *Awaiting Model Update*>,\n",
       " 82: <gurobi.Constr *Awaiting Model Update*>,\n",
       " 83: <gurobi.Constr *Awaiting Model Update*>,\n",
       " 84: <gurobi.Constr *Awaiting Model Update*>,\n",
       " 85: <gurobi.Constr *Awaiting Model Update*>,\n",
       " 86: <gurobi.Constr *Awaiting Model Update*>,\n",
       " 87: <gurobi.Constr *Awaiting Model Update*>,\n",
       " 88: <gurobi.Constr *Awaiting Model Update*>,\n",
       " 89: <gurobi.Constr *Awaiting Model Update*>,\n",
       " 90: <gurobi.Constr *Awaiting Model Update*>,\n",
       " 91: <gurobi.Constr *Awaiting Model Update*>,\n",
       " 92: <gurobi.Constr *Awaiting Model Update*>,\n",
       " 93: <gurobi.Constr *Awaiting Model Update*>,\n",
       " 94: <gurobi.Constr *Awaiting Model Update*>,\n",
       " 95: <gurobi.Constr *Awaiting Model Update*>,\n",
       " 96: <gurobi.Constr *Awaiting Model Update*>,\n",
       " 97: <gurobi.Constr *Awaiting Model Update*>,\n",
       " 98: <gurobi.Constr *Awaiting Model Update*>,\n",
       " 99: <gurobi.Constr *Awaiting Model Update*>,\n",
       " 100: <gurobi.Constr *Awaiting Model Update*>}"
      ]
     },
     "execution_count": 11,
     "metadata": {},
     "output_type": "execute_result"
    }
   ],
   "source": [
    "m.addConstrs(N[d-1] <= MAX_OCCUPANCY for d in days)\n",
    "m.addConstrs(N[d-1] >= MIN_OCCUPANCY for d in days)\n",
    "m.addConstrs(sum(F[f][d] for d in days) == 1 for f in count)\n",
    "m.addConstrs(P[d-1]==N[d-1] for d in days)\n",
    "m.addConstrs(sum(Y[p][d] for p in range(176))==1 for d in days)"
   ]
  },
  {
   "cell_type": "code",
   "execution_count": 12,
   "metadata": {},
   "outputs": [],
   "source": [
    "C = np.zeros((5000,101))\n",
    "choices = data[['choice_'+str(i) for i in range(10)]].values\n",
    "for f in range(5000):\n",
    "    for d in range(1,101):\n",
    "        l = list(choices[f])\n",
    "        if d in l:\n",
    "            if l.index(d) == 0:\n",
    "                C[f,d] = 0\n",
    "            elif l.index(d) == 1:\n",
    "                C[f,d] = 50\n",
    "            elif l.index(d) == 2:\n",
    "                C[f,d] = 50 + 9 * data.n_people[f]\n",
    "            elif l.index(d) == 3:\n",
    "                C[f,d] = 100 + 9 * data.n_people[f]\n",
    "            elif l.index(d) == 4:\n",
    "                C[f,d] = 200 + 9 * data.n_people[f]\n",
    "            elif l.index(d) == 5:\n",
    "                C[f,d] = 200 + 18 * data.n_people[f]\n",
    "            elif l.index(d) == 6:\n",
    "                C[f,d] = 300 + 18 * data.n_people[f]\n",
    "            elif l.index(d) == 7:\n",
    "                C[f,d] = 300 + 36 * data.n_people[f]\n",
    "            elif l.index(d) == 8:\n",
    "                C[f,d] = 400 + 36 * data.n_people[f]\n",
    "            elif l.index(d) == 9:\n",
    "                C[f,d] = 500 + 235 * data.n_people[f]\n",
    "        else:\n",
    "            C[f,d] = 500 + 434 * data.n_people[f]\n",
    "            \n",
    "A = np.zeros((176,176))\n",
    "A100 = np.zeros((176,))\n",
    "for i in range(125,301):\n",
    "    for j in range(125,301):\n",
    "        A[i-125][j-125] = (i-125)/400*i**(0.5+abs(i-j)/50)\n",
    "\n",
    "for i in range(125,301):\n",
    "    A100[i-125] = (i-125)/400 * i ** 0.5"
   ]
  },
  {
   "cell_type": "code",
   "execution_count": 13,
   "metadata": {},
   "outputs": [],
   "source": [
    "pcost = sum(F[f][d]*C[f,d] for f in count for d in days)"
   ]
  },
  {
   "cell_type": "code",
   "execution_count": 14,
   "metadata": {},
   "outputs": [],
   "source": [
    "acost1 = sum(Y[i][d] * Y[j][d+1] * A[i,j] for d in range(1,100) for i in range(176) for j in range(176))"
   ]
  },
  {
   "cell_type": "code",
   "execution_count": 15,
   "metadata": {},
   "outputs": [],
   "source": [
    "acost2 = sum(Y[i][100]*A100[i] for i in range(176))"
   ]
  },
  {
   "cell_type": "code",
   "execution_count": 16,
   "metadata": {},
   "outputs": [],
   "source": [
    "# m.addConstr(pcost == 62868.0)\n",
    "# m.addConstr(acost1+acost2 >= 6020.043431)"
   ]
  },
  {
   "cell_type": "code",
   "execution_count": 17,
   "metadata": {},
   "outputs": [],
   "source": [
    "m.setObjective(pcost+acost1+acost2)"
   ]
  },
  {
   "cell_type": "code",
   "execution_count": 18,
   "metadata": {},
   "outputs": [
    {
     "name": "stdout",
     "output_type": "stream",
     "text": [
      "Gurobi Optimizer version 9.0.0 build v9.0.0rc2 (linux64)\n",
      "Optimize a model with 5400 rows, 522776 columns and 2035200 nonzeros\n",
      "Model fingerprint: 0x3f0ee866\n",
      "Model has 3049200 quadratic objective terms\n",
      "Variable types: 0 continuous, 522776 integer (522776 binary)\n",
      "Coefficient statistics:\n",
      "  Matrix range     [1e+00, 3e+02]\n",
      "  Objective range  [3e-02, 4e+03]\n",
      "  QObjective range [6e-02, 7e+09]\n",
      "  Bounds range     [1e+00, 1e+00]\n",
      "  RHS range        [1e+00, 3e+02]\n",
      "Warning: Model contains large quadratic objective coefficient range\n",
      "         Consider reformulating model or setting NumericFocus parameter\n",
      "         to avoid numerical issues.\n",
      "\n",
      "User MIP start did not produce a new incumbent solution\n",
      "User MIP start violates constraint R5200 by 71.000000000\n",
      "Processed MIP start in 1.43 seconds\n",
      "\n",
      "Presolve removed 200 rows and 5177 columns (presolve time = 5s) ...\n",
      "Presolve removed 100 rows and 5077 columns\n",
      "Presolve time: 5.36s\n",
      "Presolved: 22625 rows, 535024 columns, 4119149 nonzeros\n",
      "Variable types: 17325 continuous, 517699 integer (517599 binary)\n",
      "\n",
      "Deterministic concurrent LP optimizer: primal simplex, dual simplex, and barrier\n",
      "Showing barrier log only...\n",
      "\n",
      "Presolved: 22625 rows, 535024 columns, 4119149 nonzeros\n",
      "\n",
      "Root barrier log...\n",
      "\n",
      "Ordering time: 1.06s\n",
      "\n",
      "Barrier performed 0 iterations in 19.79 seconds\n",
      "Barrier solve interrupted - model solved by another algorithm\n",
      "\n",
      "Concurrent spin time: 0.04s\n",
      "\n",
      "Solved with dual simplex\n",
      "\n",
      "Root relaxation: objective 4.330473e+04, 2826 iterations, 10.46 seconds\n",
      "Another try with MIP start\n",
      "\n",
      "    Nodes    |    Current Node    |     Objective Bounds      |     Work\n",
      " Expl Unexpl |  Obj  Depth IntInf | Incumbent    BestBd   Gap | It/Node Time\n",
      "\n",
      "     0     0 43304.7286    0  427          - 43304.7286      -     -   21s\n",
      "     0     0 43369.9981    0  495          - 43369.9981      -     -   45s\n",
      "     0     0 43409.5285    0  454          - 43409.5285      -     -   48s\n",
      "     0     0 43462.0323    0  461          - 43462.0323      -     -   51s\n",
      "     0     0 43485.1037    0  469          - 43485.1037      -     -   52s\n",
      "     0     0 43504.9821    0  470          - 43504.9821      -     -   54s\n",
      "     0     0 43516.0515    0  453          - 43516.0515      -     -   56s\n",
      "     0     0 43520.6839    0  445          - 43520.6839      -     -   57s\n",
      "     0     0 43522.1882    0  449          - 43522.1882      -     -   57s\n",
      "     0     0 43522.1882    0  449          - 43522.1882      -     -   58s\n",
      "     0     0 43540.4077    0  460          - 43540.4077      -     -   74s\n",
      "     0     0 43550.1834    0  483          - 43550.1834      -     -   78s\n",
      "     0     0 43553.7311    0  498          - 43553.7311      -     -   80s\n",
      "     0     0 43561.7180    0  473          - 43561.7180      -     -   83s\n",
      "     0     0 43567.0192    0  475          - 43567.0192      -     -   86s\n",
      "     0     0 43567.8531    0  509          - 43567.8531      -     -   88s\n",
      "     0     0 43580.3405    0  486          - 43580.3405      -     -  112s\n",
      "     0     0 43582.2107    0  513          - 43582.2107      -     -  117s\n",
      "     0     0 43591.9587    0  597          - 43591.9587      -     -  138s\n",
      "     0     0 43595.9550    0  573          - 43595.9550      -     -  143s\n",
      "     0     0 43597.1617    0  567          - 43597.1617      -     -  145s\n",
      "     0     0 43606.4224    0  555          - 43606.4224      -     -  168s\n",
      "H    0     0                    1.054315e+10 43606.4224   100%     -  169s\n",
      "     0     0 43606.4224    0  555 1.0543e+10 43606.4224   100%     -  176s\n",
      "\n",
      "Cutting planes:\n",
      "  Gomory: 1\n",
      "  Cover: 41\n",
      "  MIR: 84\n",
      "  StrongCG: 28\n",
      "  Flow cover: 182\n",
      "  GUB cover: 10\n",
      "  Zero half: 15\n",
      "  RLT: 46\n",
      "  Relax-and-lift: 11\n",
      "\n",
      "Explored 1 nodes (13934 simplex iterations) in 352.34 seconds\n",
      "Thread count was 6 (of 6 available processors)\n",
      "\n",
      "Solution count 1: 1.05432e+10 \n",
      "\n",
      "Solve interrupted\n",
      "Best objective 1.054315297257e+10, best bound 4.366074602182e+04, gap 99.9996%\n"
     ]
    }
   ],
   "source": [
    "m.optimize()"
   ]
  },
  {
   "cell_type": "code",
   "execution_count": 19,
   "metadata": {},
   "outputs": [],
   "source": [
    "# for v in m.getVars():\n",
    "#     print('%s %g' % (v.varName, v.x))"
   ]
  },
  {
   "cell_type": "code",
   "execution_count": 20,
   "metadata": {},
   "outputs": [
    {
     "name": "stdout",
     "output_type": "stream",
     "text": [
      "Obj: 1.05283e+07\n"
     ]
    }
   ],
   "source": [
    "print('Obj: %g' % pcost.getValue())"
   ]
  },
  {
   "cell_type": "code",
   "execution_count": null,
   "metadata": {},
   "outputs": [],
   "source": []
  }
 ],
 "metadata": {
  "kernelspec": {
   "display_name": "Python 3",
   "language": "python",
   "name": "python3"
  },
  "language_info": {
   "codemirror_mode": {
    "name": "ipython",
    "version": 3
   },
   "file_extension": ".py",
   "mimetype": "text/x-python",
   "name": "python",
   "nbconvert_exporter": "python",
   "pygments_lexer": "ipython3",
   "version": "3.7.4"
  }
 },
 "nbformat": 4,
 "nbformat_minor": 2
}
